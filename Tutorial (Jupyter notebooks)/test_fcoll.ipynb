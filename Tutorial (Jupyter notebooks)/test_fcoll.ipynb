{
 "cells": [
  {
   "cell_type": "markdown",
   "metadata": {},
   "source": [
    "## DEFINE THE SETUP"
   ]
  },
  {
   "cell_type": "markdown",
   "metadata": {},
   "source": [
    "First of all check that you are running the notebook in the correct environment.\n",
    "\n",
    "We start by importing the libraries we need for the analysis."
   ]
  },
  {
   "cell_type": "code",
   "execution_count": 1,
   "metadata": {},
   "outputs": [],
   "source": [
    "# Import the packages required for this tutorial\n",
    "\n",
    "import numpy as np \n",
    "import matplotlib as mpl\n",
    "import matplotlib.pyplot as plt\n",
    "\n",
    "from scipy.interpolate import interp1d\n",
    "from functools import partial\n",
    "\n",
    "from scipy.special import erfc\n",
    "\n",
    "from classy import Class\n",
    "from py21cmfast.inputs import global_params \n",
    "import py21cmfast as p21c"
   ]
  },
  {
   "cell_type": "markdown",
   "metadata": {},
   "source": [
    "We define the cosmological parameters we need in our run."
   ]
  },
  {
   "cell_type": "code",
   "execution_count": 2,
   "metadata": {},
   "outputs": [],
   "source": [
    "cosmo_params_fNL = {\"hlittle\": 0.6736, # hubble parameter\n",
    "                \"OMb\": 0.0493, # baryon density\n",
    "                \"OMm\": 0.3153, # matter (CDM+baryon) density\n",
    "                \"A_s\": 2.1e-9, # amplitude of the primordial fluctuations\n",
    "                \"POWER_INDEX\": 0.9649, # spectral index of the primordial spectrum\n",
    "                \"tau_reio\": 0.0544, # optical depth to reionization\n",
    "                \"F_NL\":300., # LOCAL NON GAUSSIANITY\n",
    "                }"
   ]
  },
  {
   "cell_type": "markdown",
   "metadata": {},
   "source": [
    "Define the quantities needed in our run."
   ]
  },
  {
   "cell_type": "code",
   "execution_count": 3,
   "metadata": {},
   "outputs": [],
   "source": [
    "log10_M_array = np.linspace(4.,20.,300)\n",
    "rho_crit = 2.7754e11 * cosmo_params_fNL['hlittle']**2\n",
    "rhoM = rho_crit* cosmo_params_fNL['OMm']\n",
    "FNL = 300 "
   ]
  },
  {
   "cell_type": "markdown",
   "metadata": {},
   "source": [
    "We run the code CLASS to computes the matter transfer function."
   ]
  },
  {
   "cell_type": "code",
   "execution_count": 4,
   "metadata": {},
   "outputs": [],
   "source": [
    "CLASS_params = {}\n",
    "CLASS_params['h'] = cosmo_params_fNL['hlittle']\n",
    "CLASS_params['Omega_cdm'] = cosmo_params_fNL['OMm'] - cosmo_params_fNL['OMb']\n",
    "CLASS_params['Omega_b'] = cosmo_params_fNL['OMb']\n",
    "CLASS_params['A_s'] = cosmo_params_fNL['A_s']\n",
    "CLASS_params['n_s'] = cosmo_params_fNL['POWER_INDEX']\n",
    "CLASS_params['output'] = 'tCl,pCl,lCl,mTk,vTk,mPk'\n",
    "CLASS_params['lensing'] = 'yes'\n",
    "CLASS_params['z_pk'] = 1087.\n",
    "CLASS_params['l_max_scalars'] = 3000\n",
    "# We need to run CLASS for very large wavenumbers. This is required for computing sigma(M) and the HMF\n",
    "CLASS_params['P_k_max_1/Mpc'] = 1200.\n",
    "\n",
    "# Run CLASS!\n",
    "CLASS_OUTPUT = Class()\n",
    "CLASS_OUTPUT.set(CLASS_params)\n",
    "CLASS_OUTPUT.compute()\n",
    "\n",
    "Transfer_0 = CLASS_OUTPUT.get_transfer(z=0.)\n",
    "k_CLASS = Transfer_0['k (h/Mpc)'][:]*cosmo_params_fNL['hlittle'] # 1/Mpc\n",
    "delta_m_0_CLASS = Transfer_0['d_tot'][:]\n",
    "k_output = pow(10.,np.array(global_params.LOG_K_ARR_FOR_TRANSFERS)) # 1/Mpc\n",
    "delta_m_0 = p21c.generate_ICs.Interpolate_transfer(delta_m_0_CLASS,k_CLASS,k_output)"
   ]
  },
  {
   "cell_type": "markdown",
   "metadata": {},
   "source": [
    "## DEFINE THE FUNCTIONS NEEDED IN THE RUN"
   ]
  },
  {
   "cell_type": "markdown",
   "metadata": {},
   "source": [
    "We define three point functions needed to model the non Gaussian corrections to $f_{\\rm coll}$. The goal is to compute $\\langle \\delta_n^3\\rangle$, $\\langle \\delta_m^3\\rangle$, $\\langle \\delta_n\\delta_m^2\\rangle$, $\\langle \\delta_n^2\\delta_m\\rangle$ under the condition $M_n < M_m$; to do so, we implement a function that computes $\\langle \\delta_n\\delta_m^2\\rangle$ and then we will use it to tabulate a $M_n\\times M_m$ matrix in which $\\langle \\delta_n\\delta_m^2\\rangle$ is the upper triangular part, $$\\langle \\delta_n^3\\rangle$ and $\\langle\\delta_m^3\\rangle$ are estimated on the diagonal $m=n$, and $\\langle \\delta_n^2\\delta_m\\rangle$ is described by the lower triangular part under the transformation $n\\to m$. \n",
    "We also want to implement the derivatives of all the three point functions with respect to $d/dM_n$.\n",
    "Note that these matrices are non symmetric.\n",
    "\n",
    "First we define a function to compute \n",
    "$$     \\mathcal{F}^{\\rm local}(k_1,M_m,k_{\\rm cutoff},f_{NL}) = \\frac{2f_{NL}}{8\\pi^4}\\mathcal{T}_m(k_1)\\int_{k_{cutoff}}{d{k}_2}\\,k_2^2 W_m(k_2)\\mathcal{T}_m(k_2) \\times $$\n",
    "$$\\times \\int d\\mu W_m(k_1,k_2,\\mu)\\mathcal{T}_m(k_1,k_2,\\mu)[P_\\Phi(k_1)P_\\Phi(k_2)+P_\\Phi(k_1)P_\\Phi(k_1,k_2,\\mu)+P_\\Phi(k_2)P_\\Phi(k_1,k_2,\\mu)]$$\n",
    "\n",
    "\n",
    "and we compute the derivative with respect to $M_m$, which we will then need to transform through $m\\to n$\n",
    "$$\\frac{d\\mathcal{F}^{\\rm local}(k_1,M_m,k_{\\rm cutoff},f_{NL})}{dM_m} = \\frac{2f_{NL}}{8\\pi^4}\\mathcal{T}_m(k_1)\\int_{k_{\\rm cutoff}}{d{k}_2}\\,k_2^2\\mathcal{T}_m(k_2)  \\times $$\n",
    "$$\\times \\int d\\mu \\left[\\frac{dW_m(k_2)}{dM_{m}}W_m(k_1,k_2,\\mu)+W_m(k_2)\\frac{dW_m(k_1,k_2,\\mu)}{dM_{m}}\\right]\\times$$\n",
    "\n",
    "$$ \\times \\mathcal{T}_m(k_1,k_2,\\mu)[P_\\Phi(k_1)P_\\Phi(k_2)+P_\\Phi(k_1)P_\\Phi(k_1,k_2,\\mu)+P_\\Phi(k_2)P_\\Phi(k_1,k_2,\\mu)]$$"
   ]
  },
  {
   "cell_type": "code",
   "execution_count": 5,
   "metadata": {},
   "outputs": [],
   "source": [
    "def FM(kv,MassVector,cosmo_params,global_params,kcutoff,fnl):\n",
    "\n",
    "    rho_crit = 2.7754e11 * cosmo_params['hlittle']**2\n",
    "    rhoM = rho_crit* cosmo_params['OMm']\n",
    "\n",
    "    Mm = MassVector[None,None,:]\n",
    "    Rm = (3.*Mm/(4.*np.pi*rhoM))**(1/3.)\n",
    "\n",
    "    kall = pow(10.,np.array(global_params.LOG_K_ARR_FOR_TRANSFERS)) # 1/Mpc\n",
    "    k = np.asarray(kall[[kall > kcutoff][0]])\n",
    "    mu = np.linspace(-0.995, 0.995, 128) # cos theta\n",
    "\n",
    "    k_2 = k[:, None, None]\n",
    "    mu_val = mu[None,:,None]\n",
    "\n",
    "    P_k1 =  9/25. * (2*np.pi**2/kv**3) * cosmo_params['A_s'] * (kv/0.05)**(cosmo_params['POWER_INDEX'] - 1.) # 9/25 is already in the transfer function from CLASS\n",
    "    P_k2 =  9/25. * (2*np.pi**2/k_2**3) * cosmo_params['A_s'] * (k_2/0.05)**(cosmo_params['POWER_INDEX'] - 1.) # 9/25 is already in the transfer function from CLASS\n",
    "\n",
    "    x2 = k_2*Rm\n",
    "    Wm_k2 = 3.0*(np.sin(x2) - x2*np.cos(x2))/(x2)**3  # dimension k1, k2, mu, Mn, Mm\n",
    "    dWm_k2 = (3 / np.power(x2, 2) * np.sin(x2) - 9 / np.power(x2, 4) * (np.sin(x2) - x2 * np.cos(x2))) * (x2) / (3 * Mm)\n",
    "\n",
    "    k_CLASS = Transfer_0['k (h/Mpc)'][:]*cosmo_params['hlittle'] # 1/Mpc\n",
    "    delta_m_0_CLASS = - 5/3. * Transfer_0['d_tot'][:]\n",
    "    Tm_k1 = interp1d(k_CLASS, delta_m_0_CLASS, kind='cubic', bounds_error=False,fill_value=0.)(kv)\n",
    "    Tm_k2 = interp1d(k_CLASS, delta_m_0_CLASS, kind='cubic', bounds_error=False,fill_value=0.)(k_2)\n",
    "\n",
    "    k_12 = np.sqrt(pow(kv,2)+pow(k_2,2) + 2*kv*k_2*mu_val)\n",
    "     \n",
    "    Tm_k12 = interp1d(k_CLASS, delta_m_0_CLASS, kind='cubic', bounds_error=False,fill_value=0.)(k_12)\n",
    "\n",
    "    x12 = k_12 * (3.*MassVector[None,None,:]/(4.*np.pi*rhoM))**(1/3.)\n",
    "    sin_x12 = np.sin(x12)\n",
    "    cos_x12 = np.cos(x12)\n",
    "    Wm_k12 = 3.0*(sin_x12 - x12*cos_x12)/(x12)**3\n",
    "\n",
    "    dWm_k12 =  (3 / np.power(x12, 2) * np.sin(x12) - 9 / np.power(x12, 4) * (np.sin(x12) - x12 * np.cos(x12))) * (x12) / (3 * Mm)\n",
    "\n",
    "    P_k12 =  9/25. * (2*np.pi**2/k_12**3) * cosmo_params['A_s'] * (k_12/0.05)**(cosmo_params['POWER_INDEX'] - 1.)\n",
    "\n",
    "    integrand = k_2**2 * Wm_k2 * Tm_k2 * Wm_k12 * Tm_k12 * (P_k1 * P_k2 + P_k2 * P_k12 + P_k1 * P_k12)\n",
    "    \n",
    "    integral_dk2 = np.trapz(integrand, k, axis = 0)\n",
    "    Fm = np.trapz(integral_dk2, mu, axis = 0)\n",
    "\n",
    "    Fm *= 2. * fnl / (8*np.pi**4.) * Tm_k1\n",
    "\n",
    "    integrand_dn2 = k_2**2 * Tm_k2 * Tm_k12 * (P_k1 * P_k2 + P_k2 * P_k12 + P_k1 * P_k12) * (dWm_k2 * Wm_k12 + Wm_k2 * dWm_k12)\n",
    "    \n",
    "    integral_dk2_dn2 = np.trapz(integrand_dn2, k, axis = 0)\n",
    "    dFm_dn2 = np.trapz(integral_dk2_dn2, mu, axis = 0)\n",
    "    \n",
    "    dFm_dn2 *= 2. * fnl / (8*np.pi**4.) * Tm_k1\n",
    "\n",
    "    return [Fm, dFm_dn2]\n"
   ]
  },
  {
   "cell_type": "markdown",
   "metadata": {},
   "source": [
    "Now we use the previous function to compute\n",
    "\n",
    "$$\\langle \\delta_n\\delta_m^2\\rangle(M_n,M_m,k_{\\rm cutoff},f_{NL}) = \\int_{k_{cutoff}}{dk_1}\\,k_1^2W_n(k_1)\\mathcal{F}^{\\rm local}(k_1,M_m,k_{\\rm cutoff},f_{NL})$$\n",
    "\n",
    "and the derivative with respect to $M_n$, which will assume three different expressions on the diagonal and upper / lower triangular parts of the matrix\n",
    "\n",
    "if $n = m$ (diagonal)\n",
    "$$\\frac{d\\langle \\delta_n^3\\rangle}{dM_n}(M_n,M_m,k_{\\rm cutoff},f_{NL}) = \\int{dk_1}\\,k_1^2\\left[W_n(k_1)\\frac{d\\mathcal{F}^{\\rm local}}{dM_n}+\\frac{dW_n(k_1)}{dM_n}\\mathcal{F}^{\\rm local}\\right]$$\n",
    "\n",
    "if $m > n$ (upper triangular)\n",
    "$$\\frac{d\\langle \\delta_n\\delta_m^2\\rangle}{dM_n}(M_n,M_m,k_{\\rm cutoff},f_{NL}) = \\int{dk_1}\\,k_1^2\\left[\\frac{dW_n(k_1)}{dM_n}\\mathcal{F}^{\\rm local}\\right]$$\n",
    "\n",
    "if $m < n$ (lower triangular)\n",
    "$$\\frac{d\\langle \\delta_n^3\\rangle}{dM_n}(M_n,M_m,k_{\\rm cutoff},f_{NL}) = \\int{dk_1}\\,k_1^2\\left[W_n(k_1)\\frac{d\\mathcal{F}^{\\rm local}}{dM_n}\\right]$$\n",
    "\n",
    "Finally, we will set ${d\\langle \\delta_m^3\\rangle}/{dM_n} = 0$."
   ]
  },
  {
   "cell_type": "code",
   "execution_count": 6,
   "metadata": {},
   "outputs": [],
   "source": [
    "def tpf(MassVector,cosmo_params,global_params,kcutoff,fnl):\n",
    "\n",
    "    kall = pow(10.,np.array(global_params.LOG_K_ARR_FOR_TRANSFERS)) # 1/Mpc\n",
    "    k = np.asarray(kall[[kall > kcutoff][0]])\n",
    "\n",
    "    rho_crit = 2.7754e11 * cosmo_params['hlittle']**2\n",
    "    rhoM = rho_crit* cosmo_params['OMm']    \n",
    "    \n",
    "    k_1 = k[:,None]\n",
    "\n",
    "    FM_function = lambda kv: FM(kv,MassVector=MassVector,cosmo_params=cosmo_params,global_params=global_params,kcutoff=kcutoff,fnl=fnl)\n",
    "    temp = np.apply_along_axis(FM_function, axis=-1, arr=k_1)\n",
    "    Fm = temp[:,0,:][:,None,:]\n",
    "    dFm_dn2 = temp[:,1,:][:,None,:]\n",
    "\n",
    "    k_1 = k[:,None,None]\n",
    "    Mn = MassVector[None,:,None]\n",
    "    Rn = (3.*Mn/(4.*np.pi*rhoM))**(1/3.)\n",
    "    x1 = k_1*Rn\n",
    "    Wn_k1 = 3.0*(np.sin(x1) - x1*np.cos(x1))/(x1)**3 \n",
    "    dWn_k1 = (3 / np.power(x1, 2) * np.sin(x1) - 9 / np.power(x1, 4) * (np.sin(x1) - x1 * np.cos(x1))) * (x1) / (3 * Mn)\n",
    "    integrand = k_1 ** 2 * Wn_k1 * Fm\n",
    "\n",
    "    ddd = np.trapz(integrand,k,axis=0)\n",
    "\n",
    "    integrand_dnm2 = k_1 ** 2 * dWn_k1 * Fm\n",
    "    integrand_dmn2 = k_1 ** 2 * Wn_k1 * dFm_dn2\n",
    "    integrand_dn3 = k_1 ** 2 * (dWn_k1 * Fm + Wn_k1 * dFm_dn2)\n",
    "\n",
    "    der_dnm2 = np.trapz(integrand_dnm2,k,axis=0)\n",
    "    der_dmn2 = np.trapz(integrand_dmn2,k,axis=0)\n",
    "    der_dn3 = np.trapz(integrand_dn3,k,axis=0)\n",
    "\n",
    "    der_ddd = np.zeros((len(MassVector),len(MassVector)))\n",
    "    # Fill below the diagonal (i > j) with n2m\n",
    "    der_ddd[np.tril_indices(len(MassVector), -1)] = der_dmn2[np.tril_indices(len(MassVector), -1)]\n",
    "\n",
    "    # Fill above the diagonal (i < j) with nm2\n",
    "    der_ddd[np.triu_indices(len(MassVector), 1)] = der_dnm2[np.triu_indices(len(MassVector), 1)]\n",
    "\n",
    "    # Fill the diagonal with nnn\n",
    "    np.fill_diagonal(der_ddd, np.diagonal(der_dn3))\n",
    "\n",
    "    return ddd, der_ddd"
   ]
  },
  {
   "cell_type": "markdown",
   "metadata": {},
   "source": [
    "At this point we implement the $f_{\\rm coll}$ functions defined in D'Alosio and in Lidz. Both the functions return the Gaussian term and the non Gaussian corrections separately."
   ]
  },
  {
   "cell_type": "code",
   "execution_count": 7,
   "metadata": {},
   "outputs": [],
   "source": [
    "def fcoll_DALOSIO(M1_id,M2_id,tpf,z, delta2):\n",
    "\n",
    "    M1 = 10**log10_M_array[M1_id]\n",
    "    M2 = 10**log10_M_array[M2_id]\n",
    "    \n",
    "    Rn = (3.*M1/(4.*np.pi*rhoM))**(1/3.)\n",
    "    Rm = (3.*M2/(4.*np.pi*rhoM))**(1/3.)\n",
    "\n",
    "    sigma1 = CLASS_OUTPUT.sigma(Rn,0.)\n",
    "    sigma2 = CLASS_OUTPUT.sigma(Rm,0.)\n",
    "\n",
    "    growthf = CLASS_OUTPUT.scale_independent_growth_factor(z)\n",
    "    delta1 = 1.68\n",
    "    sigma1 = sigma1*sigma1\n",
    "    sigma2 = sigma2*sigma2\n",
    "    if delta2 == False:     \n",
    "        delta2 = np.sqrt(sigma2) * growthf # this is the condition required by Fig. 2 in D'Alosio\n",
    "\n",
    "    deltagrowth_diff = ( delta1 - delta2 )/growthf\n",
    "    if (sigma1 < sigma2):\n",
    "        return 0.,0.\n",
    "    elif (sigma1 > sigma2):\n",
    "        sigma_diff = sigma1 - sigma2\n",
    "    elif (sigma1==sigma2):\n",
    "        sigma_diff = 1.e-6\n",
    "        \n",
    "    fcoll_dMmin_EPS = erfc((deltagrowth_diff)/np.sqrt( 2.*sigma_diff ) )\n",
    "\n",
    "    delta_n3 = tpf[M1_id,M1_id]\n",
    "    delta_m3 = tpf[M2_id,M2_id] \n",
    "    delta_m2delta_n = tpf[M1_id,M2_id]\n",
    "    delta_mdelta_n2 = tpf[M2_id,M1_id]\n",
    "\n",
    "    A = (delta_n3 - delta_m3 + 3.*delta_m2delta_n - 3.*delta_mdelta_n2)\n",
    "    B = (delta_m3 + delta_mdelta_n2 - 2*delta_m2delta_n)\n",
    "    Cval = (delta_m2delta_n - delta_m3)\n",
    "\n",
    "    dfcoll_G_dSn = deltagrowth_diff / np.sqrt(2*np.pi) / pow(sigma_diff,3/2.) * np.exp(-pow(deltagrowth_diff,2)/2./sigma_diff); \n",
    "\n",
    "    val = ( pow(delta1 / growthf, 2) - delta1 * delta2 / pow(growthf,2)) / sigma2 ; \n",
    "    cothD = (np.exp(val) + np.exp(-val)) / (np.exp(val) - np.exp(-val)); \n",
    "\n",
    "    one_dSn = A/3. * (\n",
    "         deltagrowth_diff / sigma_diff - 1./deltagrowth_diff )* dfcoll_G_dSn\n",
    "\n",
    "    two_dSn = B/sigma2 * ( delta1 / growthf - deltagrowth_diff * cothD ) * dfcoll_G_dSn \n",
    "\n",
    "    three_dSn = Cval*sigma_diff/(pow(sigma2,2) * deltagrowth_diff ) * (pow(delta2 / growthf, 2.) - sigma2 - 2. * (pow(delta1 / growthf,2)-delta1*delta2/pow(growthf,2)) * (cothD -1.)) * dfcoll_G_dSn  \n",
    "\n",
    "    if (delta1 <= delta2 or pow(delta1/growthf,2) < sigma2 or sigma2 == 0.):\n",
    "        fcoll_dMmin_NG = 0.\n",
    "    else:\n",
    "        fcoll_dMmin_NG = (one_dSn + two_dSn + three_dSn)\n",
    "    \n",
    "    return fcoll_dMmin_EPS , fcoll_dMmin_NG "
   ]
  },
  {
   "cell_type": "code",
   "execution_count": 8,
   "metadata": {},
   "outputs": [],
   "source": [
    "def fcoll_LIDZ(M1_id,M2_id,tpf,z, delta2):\n",
    "\n",
    "    M1 = 10**log10_M_array[M1_id]\n",
    "    M2 = 10**log10_M_array[M2_id]\n",
    "    sigma1 = CLASS_OUTPUT.sigma((3.*M1/(4.*np.pi*rhoM))**(1/3.),0.)\n",
    "    sigma2 = CLASS_OUTPUT.sigma((3.*M2/(4.*np.pi*rhoM))**(1/3.),0.)\n",
    "\n",
    "    growthf = CLASS_OUTPUT.scale_independent_growth_factor(z)\n",
    "    delta1 = 1.68\n",
    "    sigma1 = sigma1*sigma1\n",
    "    sigma2 = sigma2*sigma2\n",
    "    if delta2 == False:     \n",
    "        delta2 = np.sqrt(sigma2) * growthf # this is the condition required by Fig. 2 in D'Alosio\n",
    "\n",
    "    deltagrowth_diff = ( delta1 - delta2 )/growthf\n",
    "    if (sigma1 < sigma2):\n",
    "        return 0.,0.\n",
    "    elif (sigma1 > sigma2):\n",
    "        sigma_diff = sigma1 - sigma2\n",
    "    elif (sigma1==sigma2):\n",
    "        sigma_diff = 1.e-6\n",
    "        \n",
    "    fcoll_dMmin_EPS = erfc((deltagrowth_diff)/np.sqrt( 2.*sigma_diff ) )\n",
    "\n",
    "    delta_n3 = tpf[M1_id,M1_id]\n",
    "    delta_m3 = tpf[M2_id,M2_id] \n",
    "    delta_m2delta_n = tpf[M1_id,M2_id]\n",
    "    delta_mdelta_n2 = tpf[M2_id,M1_id]\n",
    "\n",
    "    A = (delta_n3 - delta_m3 + 3.*delta_m2delta_n - 3.*delta_mdelta_n2)\n",
    "    B = (delta_m3 + delta_mdelta_n2 - 2*delta_m2delta_n)\n",
    "\n",
    "    if (delta1 <= delta2 or pow(delta1/growthf,2) < sigma2 or sigma2 == 0.):\n",
    "        fcoll_dMmin_NG = 0.\n",
    "    else:\n",
    "        fcoll_dMmin_NG = np.exp(-pow(deltagrowth_diff,2)/2./sigma_diff) * (A / 3./np.sqrt(2*np.pi)/sigma_diff**(3/2.)*(deltagrowth_diff**2/sigma_diff - 1.)+ B*delta2/growthf/sigma2*deltagrowth_diff/np.sqrt(2*np.pi)/sigma_diff**(3/2.))\n",
    "        \n",
    "\n",
    "    return fcoll_dMmin_EPS , fcoll_dMmin_NG \n"
   ]
  },
  {
   "cell_type": "markdown",
   "metadata": {},
   "source": [
    "## PERFORM THE RUN AND COMPUTE THE VALUES "
   ]
  },
  {
   "cell_type": "markdown",
   "metadata": {},
   "source": [
    "First we test the three point functions. \n",
    "\n",
    "We tabulate the $\\langle \\delta_n\\delta_m^2\\rangle$ and  $d\\langle \\delta_n\\delta_m^2\\rangle/dM_n$ matrices and the $\\langle\\delta_n^3\\rangle$ array. We also compute $\\sigma_{n,m}^2$ using CLASS."
   ]
  },
  {
   "cell_type": "code",
   "execution_count": 9,
   "metadata": {},
   "outputs": [],
   "source": [
    "nmm_fast, der_nmm_fast = tpf(pow(10.,log10_M_array),cosmo_params_fNL,global_params,kcutoff=0.01,fnl=FNL)\n",
    "\n",
    "nnn_fast = np.zeros((len(log10_M_array)))\n",
    "der_nnn_fast = np.zeros((len(log10_M_array)))\n",
    "sigma_0_fast = np.zeros((len(log10_M_array)))\n",
    "\n",
    "for Mn_ind, Mn in enumerate(pow(10.,log10_M_array)):\n",
    "    nnn_fast[Mn_ind] = nmm_fast[Mn_ind,Mn_ind]\n",
    "    der_nnn_fast[Mn_ind] = der_nmm_fast[Mn_ind,Mn_ind]\n",
    "    sigma_0_fast[Mn_ind] = CLASS_OUTPUT.sigma((3.*Mn/(4.*np.pi*rhoM))**(1/3.),0.)"
   ]
  },
  {
   "cell_type": "markdown",
   "metadata": {},
   "source": [
    "We compare our three point functions with Fig. 1 in D'Alosio to verify the implementation."
   ]
  },
  {
   "cell_type": "code",
   "execution_count": 10,
   "metadata": {},
   "outputs": [
    {
     "data": {
      "text/plain": [
       "(0.0, 10.0)"
      ]
     },
     "execution_count": 10,
     "metadata": {},
     "output_type": "execute_result"
    },
    {
     "data": {
      "image/png": "[encoded data removed]",
      "text/plain": [
       "<Figure size 640x480 with 1 Axes>"
      ]
     },
     "metadata": {},
     "output_type": "display_data"
    }
   ],
   "source": [
    "id = 225 # choose Mn - this is the index in the mass array \n",
    "\n",
    "plt.plot(sigma_0_fast**2,nnn_fast/FNL/1e-4 ,label=r'$<\\delta_n^3>$')\n",
    "plt.plot(sigma_0_fast**2,nmm_fast[id,:]/FNL/1e-4,label=r'$<\\delta_n^2\\delta_m>,M_n = 10^{%g}$'%round(log10_M_array[id],1))\n",
    "plt.xlabel(r'$\\rm \\sigma^2_m$')\n",
    "plt.ylabel(r'$\\rm <\\delta_i\\delta_j\\delta_k>/f_{NL}10^{-4}$')\n",
    "plt.legend()\n",
    "plt.xlim(0,4)\n",
    "plt.ylim(0,10)"
   ]
  },
  {
   "cell_type": "markdown",
   "metadata": {},
   "source": [
    "Now we want to test the $f_{\\rm coll}$ and to compare the two prescriptions in D'Alosio and Lidz. \n",
    "\n",
    "We first compute $f_{\\rm coll}$ for a fixed value of $M_m$ and as a function of $M_n$. We start by setting $\\delta_m = \\sqrt{S_m}$ as it is written in the caption of Fig. 2 by D'Alosio.  "
   ]
  },
  {
   "cell_type": "code",
   "execution_count": 11,
   "metadata": {},
   "outputs": [],
   "source": [
    "Mm_ind = 225 # choose Mm - this is the index in the mass array \n",
    "\n",
    "funct = lambda Mv: fcoll_LIDZ(Mv,Mm_ind,nmm_fast,z=0.,delta2 = False)\n",
    "functDA = lambda Mv: fcoll_DALOSIO(Mv,Mm_ind,nmm_fast,z=0., delta2 = False)\n",
    "fcoll_gauss = np.zeros((len(log10_M_array)))\n",
    "fcoll_L_NONgauss = np.zeros((len(log10_M_array)))\n",
    "fcoll_DA_NONgauss = np.zeros((len(log10_M_array)))\n",
    "for i in range(len(log10_M_array)):\n",
    "    temp = funct(i)\n",
    "    fcoll_gauss[i] = temp[0]\n",
    "    fcoll_L_NONgauss[i] = temp[1]\n",
    "    temp = functDA(i)\n",
    "    fcoll_DA_NONgauss[i] = temp[1]"
   ]
  },
  {
   "cell_type": "markdown",
   "metadata": {},
   "source": [
    "We now compare with Fig. 2 in D'Alosio."
   ]
  },
  {
   "cell_type": "code",
   "execution_count": 16,
   "metadata": {},
   "outputs": [
    {
     "name": "stderr",
     "output_type": "stream",
     "text": [
      "/tmp/ipykernel_38223/692578783.py:12: RuntimeWarning: invalid value encountered in divide\n",
      "  plt.semilogx(pow(10,log10_M_array) ,(fcoll_gauss+fcoll_DA_NONgauss)/fcoll_gauss)\n",
      "/tmp/ipykernel_38223/692578783.py:13: RuntimeWarning: invalid value encountered in divide\n",
      "  plt.semilogx(pow(10,log10_M_array),(fcoll_gauss+fcoll_L_NONgauss)/fcoll_gauss,ls = '--')\n"
     ]
    },
    {
     "data": {
      "text/plain": [
       "Text(0, 0.5, '($f^G_{coll}+f^{NG}_{coll}) / f^G_{coll}$')"
      ]
     },
     "execution_count": 16,
     "metadata": {},
     "output_type": "execute_result"
    },
    {
     "data": {
      "image/png": "[encoded data removed]",
      "text/plain": [
       "<Figure size 1000x500 with 2 Axes>"
      ]
     },
     "metadata": {},
     "output_type": "display_data"
    }
   ],
   "source": [
    "plt.figure(figsize=(10,5))\n",
    "plt.subplot(121)\n",
    "plt.semilogx(pow(10,log10_M_array),(fcoll_gauss),'k-',label='Gaussian')\n",
    "plt.semilogx(pow(10,log10_M_array),(fcoll_gauss + fcoll_DA_NONgauss),label='NG D Alosio')\n",
    "plt.semilogx(pow(10,log10_M_array),(fcoll_gauss+ fcoll_L_NONgauss),ls = '--',label = 'NG Lidz')\n",
    "plt.xlabel(r'M$_n$')\n",
    "plt.ylabel(r'$f^G_{coll}+f^{NG}_{coll}$')\n",
    "plt.legend(loc=1)\n",
    "plt.title(r'$M_m=10^{%g}$'%log10_M_array[Mm_ind])\n",
    "\n",
    "plt.subplot(122)\n",
    "plt.semilogx(pow(10,log10_M_array) ,(fcoll_gauss+fcoll_DA_NONgauss)/fcoll_gauss)\n",
    "plt.semilogx(pow(10,log10_M_array),(fcoll_gauss+fcoll_L_NONgauss)/fcoll_gauss,ls = '--')\n",
    "plt.xlabel(r'$M$_n$')\n",
    "plt.ylabel(r'($f^G_{coll}+f^{NG}_{coll}) / f^G_{coll}$')"
   ]
  },
  {
   "cell_type": "markdown",
   "metadata": {},
   "source": [
    "NEXT STEPS:\n",
    "- compare $f_{\\rm coll}$ in D'Alosio and Lidz for different $M_m, \\delta_m, z$... and verify the goodness of Lidz's approximation\n",
    "- implement $df_{\\rm coll}/dM_n$ in the two formalisms\n",
    "- verify if the approximation holds also in the case of $df_{\\rm coll}/dM_n$"
   ]
  }
 ],
 "metadata": {
  "kernelspec": {
   "display_name": "fnl",
   "language": "python",
   "name": "python3"
  },
  "language_info": {
   "codemirror_mode": {
    "name": "ipython",
    "version": 3
   },
   "file_extension": ".py",
   "mimetype": "text/x-python",
   "name": "python",
   "nbconvert_exporter": "python",
   "pygments_lexer": "ipython3",
   "version": "3.10.16"
  }
 },
 "nbformat": 4,
 "nbformat_minor": 2
}
